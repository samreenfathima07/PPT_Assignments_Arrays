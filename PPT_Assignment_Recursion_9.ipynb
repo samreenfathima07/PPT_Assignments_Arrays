{
 "cells": [
  {
   "cell_type": "markdown",
   "id": "751f1d29",
   "metadata": {},
   "source": [
    "Q.1. Given an integer n, return true if it is a power of two. Otherwise, return false.\n",
    "\n",
    "An integer n is a power of two, if there exists an integer x such that n == 2x.\n",
    "\n",
    "Example 1: Input: n = 1\n",
    "\n",
    "Output: true\n",
    "\n",
    "Example 2: Input: n = 16\n",
    "\n",
    "Output: true\n",
    "\n",
    "Example 3: Input: n = 3\n",
    "\n",
    "Output: false"
   ]
  },
  {
   "cell_type": "code",
   "execution_count": 1,
   "id": "176734c9",
   "metadata": {},
   "outputs": [
    {
     "name": "stdout",
     "output_type": "stream",
     "text": [
      "True\n",
      "True\n",
      "False\n"
     ]
    }
   ],
   "source": [
    "def is_power_of_two(n):\n",
    "    \n",
    "    if n <= 0:\n",
    "        return False\n",
    "    \n",
    "    while n > 1:\n",
    "        \n",
    "        if n % 2 == 1:\n",
    "            return False\n",
    "        n = n // 2\n",
    "    return True\n",
    "\n",
    "print(is_power_of_two(1))\n",
    "print(is_power_of_two(16))\n",
    "print(is_power_of_two(3))"
   ]
  },
  {
   "cell_type": "markdown",
   "id": "3da4ab8a",
   "metadata": {},
   "source": [
    "Q.2. Given a number n, find the sum of the first natural numbers.\n",
    "\n",
    "Example 1:\n",
    "\n",
    "Input: n = 3\n",
    "\n",
    "Output: 6\n",
    "\n",
    "Example 2:\n",
    "\n",
    "Input : 5\n",
    "\n",
    "Output : 15"
   ]
  },
  {
   "cell_type": "code",
   "execution_count": 2,
   "id": "631caa65",
   "metadata": {},
   "outputs": [
    {
     "name": "stdout",
     "output_type": "stream",
     "text": [
      "6\n",
      "15\n"
     ]
    }
   ],
   "source": [
    "def sum_of_natural_numbers(n):\n",
    "    \n",
    "    sum = 0\n",
    "    for i in range(1, n + 1):\n",
    "        sum = sum + i\n",
    "    return sum\n",
    "\n",
    "\n",
    "print(sum_of_natural_numbers(3))\n",
    "print(sum_of_natural_numbers(5))\n"
   ]
  },
  {
   "cell_type": "markdown",
   "id": "e8714363",
   "metadata": {},
   "source": [
    "Q.3. Given a positive integer, N. Find the factorial of N.\n",
    "\n",
    "Example 1:\n",
    "\n",
    "Input: N = 5\n",
    "\n",
    "Output: 120\n",
    "\n",
    "Example 2:\n",
    "\n",
    "Input: N = 4\n",
    "\n",
    "Output: 24"
   ]
  },
  {
   "cell_type": "code",
   "execution_count": 4,
   "id": "22df5e8d",
   "metadata": {},
   "outputs": [
    {
     "name": "stdout",
     "output_type": "stream",
     "text": [
      "120\n",
      "24\n"
     ]
    }
   ],
   "source": [
    "def factorial(n):\n",
    "    if n == 0 or n == 1:\n",
    "        return 1\n",
    "    \n",
    "    else:\n",
    "        return n * factorial(n-1)\n",
    "\n",
    "print(factorial(5))\n",
    "print(factorial(4))"
   ]
  },
  {
   "cell_type": "markdown",
   "id": "fb945708",
   "metadata": {},
   "source": [
    "Q.4. Given a number N and a power P, the task is to find the exponent of this number raised to the given power, i.e. N^P.\n",
    "\n",
    "Example 1 :\n",
    "\n",
    "Input: N = 5, P = 2\n",
    "\n",
    "Output: 25\n",
    "\n",
    "Example 2 : Input: N = 2, P = 5\n",
    "\n",
    "Output: 32"
   ]
  },
  {
   "cell_type": "code",
   "execution_count": 5,
   "id": "50075cfe",
   "metadata": {},
   "outputs": [
    {
     "name": "stdout",
     "output_type": "stream",
     "text": [
      "25\n",
      "32\n"
     ]
    }
   ],
   "source": [
    "def power(n, p):\n",
    "    \n",
    "    if p == 0:\n",
    "        return 1\n",
    "    \n",
    "    else:\n",
    "        return n * power(n, p-1)\n",
    "\n",
    "print(power(5, 2))\n",
    "print(power(2, 5))"
   ]
  },
  {
   "cell_type": "markdown",
   "id": "bd62ab6a",
   "metadata": {},
   "source": [
    "Q.5. Given an array of integers arr, the task is to find maximum element of that array using recursion.\n",
    "\n",
    "Example 1:\n",
    "\n",
    "Input: arr = {1, 4, 3, -5, -4, 8, 6}\n",
    "\n",
    "Output: 8\n",
    "\n",
    "Example 2:\n",
    "\n",
    "Input: arr = {1, 4, 45, 6, 10, -8}\n",
    "\n",
    "Output: 45"
   ]
  },
  {
   "cell_type": "code",
   "execution_count": 6,
   "id": "6ed16456",
   "metadata": {},
   "outputs": [
    {
     "name": "stdout",
     "output_type": "stream",
     "text": [
      "8\n",
      "45\n"
     ]
    }
   ],
   "source": [
    "def max_element(arr, n):\n",
    "    \n",
    "    if n == 1:\n",
    "        return arr[0]\n",
    "    \n",
    "    else:\n",
    "        return max(arr[n-1], max_element(arr, n-1))\n",
    "\n",
    "arr1 = [1, 4, 3, -5, -4, 8, 6]\n",
    "arr2 = [1, 4, 45, 6, 10, -8]\n",
    "\n",
    "print(max_element(arr1, len(arr1)))\n",
    "print(max_element(arr2, len(arr2)))"
   ]
  },
  {
   "cell_type": "markdown",
   "id": "c3b8c02a",
   "metadata": {},
   "source": [
    "Q.6. Given first term (a), common difference (d) and a integer N of the Arithmetic Progression series, the task is to find Nth term of the series.\n",
    "\n",
    "Example 1:\n",
    "\n",
    "Input : a = 2 d = 1 N = 5\n",
    "\n",
    "Output : 6\n",
    "\n",
    "The 5th term of the series is : 6\n",
    "\n",
    "Example 2:\n",
    "\n",
    "Input : a = 5 d = 2 N = 10\n",
    "\n",
    "Output : 23\n",
    "\n",
    "The 10th term of the series is : 23"
   ]
  },
  {
   "cell_type": "code",
   "execution_count": 7,
   "id": "358f7e0e",
   "metadata": {},
   "outputs": [
    {
     "name": "stdout",
     "output_type": "stream",
     "text": [
      "6\n",
      "23\n"
     ]
    }
   ],
   "source": [
    "def nth_term(a, d, n):\n",
    "    \n",
    "    nth = a + (n-1) * d\n",
    "    \n",
    "    return nth\n",
    "\n",
    "print(nth_term(2, 1, 5))\n",
    "print(nth_term(5, 2, 10))"
   ]
  },
  {
   "cell_type": "markdown",
   "id": "1f889605",
   "metadata": {},
   "source": [
    "Q.7. Given a string S, the task is to write a program to print all permutations of a given string.\n",
    "\n",
    "Example 1:\n",
    "\n",
    "*Input:*\n",
    "\n",
    "S = “ABC”\n",
    "\n",
    "*Output:*\n",
    "\n",
    "“ABC”, “ACB”, “BAC”, “BCA”, “CBA”, “CAB”\n",
    "\n",
    "Example 2:\n",
    "\n",
    "*Input:*\n",
    "\n",
    "S = “XY”\n",
    "\n",
    "*Output:*\n",
    "\n",
    "“XY”, “YX”"
   ]
  },
  {
   "cell_type": "code",
   "execution_count": 8,
   "id": "3a4195bc",
   "metadata": {},
   "outputs": [
    {
     "name": "stdout",
     "output_type": "stream",
     "text": [
      "ABC\n",
      "ACB\n",
      "BAC\n",
      "BCA\n",
      "CBA\n",
      "CAB\n",
      "XY\n",
      "YX\n"
     ]
    }
   ],
   "source": [
    "def permutations(s, l, r):\n",
    "    if l == r:\n",
    "        print(s)\n",
    "        \n",
    "    else:\n",
    "        for i in range(l, r + 1):\n",
    "            s = swap(s, l, i)\n",
    "            permutations(s, l + 1, r)\n",
    "            s = swap(s, l, i)\n",
    "\n",
    "def swap(s, i, j):\n",
    "    \n",
    "    s = list(s)\n",
    "    s[i], s[j] = s[j], s[i]\n",
    "    return \"\".join(s)\n",
    "\n",
    "s1 = \"ABC\"\n",
    "s2 = \"XY\"\n",
    "permutations(s1, 0, len(s1) - 1)\n",
    "permutations(s2, 0, len(s2) - 1)"
   ]
  },
  {
   "cell_type": "markdown",
   "id": "a941ee35",
   "metadata": {},
   "source": [
    "Q.8. Given an array, find a product of all array elements.\n",
    "\n",
    "Example 1:\n",
    "\n",
    "Input : arr[] = {1, 2, 3, 4, 5}\n",
    "\n",
    "Output : 120\n",
    "\n",
    "Example 2:\n",
    "\n",
    "Input : arr[] = {1, 6, 3}\n",
    "\n",
    "Output : 18"
   ]
  },
  {
   "cell_type": "code",
   "execution_count": 9,
   "id": "25cff5ae",
   "metadata": {},
   "outputs": [
    {
     "name": "stdout",
     "output_type": "stream",
     "text": [
      "120\n",
      "18\n"
     ]
    }
   ],
   "source": [
    "def product_of_array(arr):\n",
    "    \n",
    "    product = 1    \n",
    "    for x in arr:\n",
    "        product = product * x\n",
    "        \n",
    "    return product\n",
    "\n",
    "arr1 = [1, 2, 3, 4, 5]\n",
    "arr2 = [1, 6, 3]\n",
    "\n",
    "print(product_of_array(arr1))\n",
    "print(product_of_array(arr2))"
   ]
  },
  {
   "cell_type": "code",
   "execution_count": null,
   "id": "dcb8d1b4",
   "metadata": {},
   "outputs": [],
   "source": []
  },
  {
   "cell_type": "code",
   "execution_count": null,
   "id": "fdb01ec5",
   "metadata": {},
   "outputs": [],
   "source": []
  },
  {
   "cell_type": "code",
   "execution_count": null,
   "id": "e6501912",
   "metadata": {},
   "outputs": [],
   "source": []
  }
 ],
 "metadata": {
  "kernelspec": {
   "display_name": "Python 3 (ipykernel)",
   "language": "python",
   "name": "python3"
  },
  "language_info": {
   "codemirror_mode": {
    "name": "ipython",
    "version": 3
   },
   "file_extension": ".py",
   "mimetype": "text/x-python",
   "name": "python",
   "nbconvert_exporter": "python",
   "pygments_lexer": "ipython3",
   "version": "3.9.7"
  }
 },
 "nbformat": 4,
 "nbformat_minor": 5
}
