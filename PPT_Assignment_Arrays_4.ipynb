{
 "cells": [
  {
   "cell_type": "markdown",
   "id": "3106adcb",
   "metadata": {},
   "source": [
    "Q.1. Given three integer arrays arr1, arr2 and arr3 sorted in strictly increasing order, return a sorted array of only the integers that appeared in all three arrays.\n",
    "\n",
    "Example 1:\n",
    "\n",
    "Input: arr1 = [1,2,3,4,5], arr2 = [1,2,5,7,9], arr3 = [1,3,4,5,8]\n",
    "\n",
    "Output: [1,5]\n",
    "\n",
    "Explanation: Only 1 and 5 appeared in the three arrays."
   ]
  },
  {
   "cell_type": "code",
   "execution_count": 1,
   "id": "eeb98b0a",
   "metadata": {},
   "outputs": [],
   "source": [
    "def find_common_elements(arr1, arr2, arr3):\n",
    "    i = j = k = 0\n",
    "    result = []\n",
    "    while i < len(arr1) and j < len(arr2) and k < len(arr3):\n",
    "        if arr1[i] == arr2[j] == arr3[k]:\n",
    "            result.append(arr1[i])\n",
    "            i += 1\n",
    "            j += 1\n",
    "            k += 1\n",
    "        elif arr1[i] < arr2[j]:\n",
    "            i += 1\n",
    "        elif arr2[j] < arr3[k]:\n",
    "            j += 1\n",
    "        else:\n",
    "            k += 1\n",
    "    return result"
   ]
  },
  {
   "cell_type": "code",
   "execution_count": 2,
   "id": "0d254232",
   "metadata": {},
   "outputs": [
    {
     "name": "stdout",
     "output_type": "stream",
     "text": [
      "[1, 5]\n"
     ]
    }
   ],
   "source": [
    "arr1 = [1,2,3,4,5]\n",
    "arr2 = [1,2,5,7,9]\n",
    "arr3 = [1,3,4,5,8]\n",
    "\n",
    "print(find_common_elements(arr1, arr2, arr3))"
   ]
  },
  {
   "cell_type": "markdown",
   "id": "44138ca4",
   "metadata": {},
   "source": [
    "Q.2. Given two 0-indexed integer arrays nums1 and nums2, return a list answer of size 2 where:\n",
    "\n",
    "answer[0] is a list of all distinct* integers in* nums1 which are not* present in* nums2.\n",
    "answer[1] is a list of all distinct* integers in* nums2 which are not* present in* nums1.\n",
    "Note that the integers in the lists may be returned in any order.\n",
    "\n",
    "Example 1:\n",
    "\n",
    "Input: nums1 = [1,2,3], nums2 = [2,4,6]\n",
    "\n",
    "Output: [[1,3],[4,6]]\n",
    "\n",
    "Explanation:\n",
    "\n",
    "For nums1, nums1[1] = 2 is present at index 0 of nums2, whereas nums1[0] = 1 and nums1[2] = 3 are not present in nums2. Therefore, answer[0] = [1,3].\n",
    "\n",
    "For nums2, nums2[0] = 2 is present at index 1 of nums1, whereas nums2[1] = 4 and nums2[2] = 6 are not present in nums2. Therefore, answer[1] = [4,6]."
   ]
  },
  {
   "cell_type": "code",
   "execution_count": 3,
   "id": "18ab5b09",
   "metadata": {},
   "outputs": [],
   "source": [
    "def find_disjoint_elements(nums1, nums2):\n",
    "    set1 = set(nums1)\n",
    "    set2 = set(nums2)\n",
    "    return [list(set1 - set2), list(set2 - set1)]"
   ]
  },
  {
   "cell_type": "code",
   "execution_count": 4,
   "id": "0985dd2d",
   "metadata": {},
   "outputs": [
    {
     "name": "stdout",
     "output_type": "stream",
     "text": [
      "[[1, 3], [4, 6]]\n"
     ]
    }
   ],
   "source": [
    "nums1 = [1, 2, 3]\n",
    "nums2 = [2, 4, 6]\n",
    "print(find_disjoint_elements(nums1, nums2))"
   ]
  },
  {
   "attachments": {},
   "cell_type": "markdown",
   "id": "3c34c7c6",
   "metadata": {},
   "source": [
    "**Q.3.** Given a 2D integer array matrix, return *the **transpose** of* matrix.\n",
    "\n",
    "The **transpose** of a matrix is the matrix flipped over its main diagonal, switching the matrix's row and column indices.\n",
    "\n",
    "**Example 1:**\n",
    "\n",
    "**Input:** matrix = [[1,2,3],[4,5,6],[7,8,9]]\n",
    "\n",
    "**Output:** [[1,4,7],[2,5,8],[3,6,9]]\n",
    "    \n",
    "\n"
   ]
  },
  {
   "cell_type": "code",
   "execution_count": 5,
   "id": "eda59b80",
   "metadata": {},
   "outputs": [],
   "source": [
    "def transpose_matrix(matrix):\n",
    "    \n",
    "    return [[matrix[j][i] for j in range(len(matrix))] for i in range(len(matrix[0]))]"
   ]
  },
  {
   "cell_type": "code",
   "execution_count": 6,
   "id": "7c49112f",
   "metadata": {},
   "outputs": [
    {
     "name": "stdout",
     "output_type": "stream",
     "text": [
      "[[1, 4, 7], [2, 5, 8], [3, 6, 9]]\n"
     ]
    }
   ],
   "source": [
    "matrix = [[1,2,3],[4,5,6],[7,8,9]]\n",
    "\n",
    "print(transpose_matrix(matrix))"
   ]
  },
  {
   "cell_type": "markdown",
   "id": "f6e29581",
   "metadata": {},
   "source": [
    "Q.4. Given an integer array nums of 2n integers, group these integers into n pairs (a1, b1), (a2, b2), ..., (an, bn) such that the sum of min(ai, bi) for all i is maximized. Return the maximized sum.\n",
    "\n",
    "Example 1:\n",
    "\n",
    "Input: nums = [1,4,3,2]\n",
    "\n",
    "Output: 4\n",
    "\n",
    "Explanation: All possible pairings (ignoring the ordering of elements) are:\n",
    "\n",
    "(1, 4), (2, 3) -> min(1, 4) + min(2, 3) = 1 + 2 = 3\n",
    "\n",
    "(1, 3), (2, 4) -> min(1, 3) + min(2, 4) = 1 + 2 = 3\n",
    "\n",
    "(1, 2), (3, 4) -> min(1, 2) + min(3, 4) = 1 + 3 = 4\n",
    "\n",
    "So the maximum possible sum is 4."
   ]
  },
  {
   "cell_type": "code",
   "execution_count": 7,
   "id": "0145497b",
   "metadata": {},
   "outputs": [],
   "source": [
    "def array_pair_sum(nums):\n",
    "    \n",
    "    nums.sort()\n",
    "    \n",
    "    return sum(nums[::2])"
   ]
  },
  {
   "cell_type": "code",
   "execution_count": 8,
   "id": "42bdcd99",
   "metadata": {},
   "outputs": [
    {
     "name": "stdout",
     "output_type": "stream",
     "text": [
      "9\n"
     ]
    }
   ],
   "source": [
    "nums = [1,4,3,2,5]\n",
    "\n",
    "print(array_pair_sum(nums))"
   ]
  },
  {
   "cell_type": "markdown",
   "id": "8d12c084",
   "metadata": {},
   "source": [
    "**Q.5.** You have n coins and you want to build a staircase with these coins. The staircase consists of k rows where the ith row has exactly i coins. The last row of the staircase may be incomplete.\n",
    "\n",
    "Given the integer n, return the number of complete rows of the staircase you will build.\n",
    "\n",
    "**Example 1:**\n",
    "    \n",
    "###![PPT4_Q5.jpg](attachment:PPT4_Q5.jpg)\n",
    "\n",
    "**Input:** n = 5\n",
    "\n",
    "**Output:** 2\n",
    "\n",
    "**Explanation:** Because the 3rd row is incomplete, we return 2."
   ]
  },
  {
   "cell_type": "code",
   "execution_count": 9,
   "id": "290c2042",
   "metadata": {},
   "outputs": [],
   "source": [
    "class Solution:\n",
    "    def arrangeCoins(self, n: int) -> int:\n",
    "        if n==1:\n",
    "            return 1\n",
    "        l=0\n",
    "        r=n//2 + 1\n",
    "        while l<=r:\n",
    "            m = l+(r-l)//2\n",
    "            x = (m*(m+1)//2)\n",
    "            if x==n:\n",
    "                return(m)\n",
    "            elif x<n:\n",
    "                l = m+1\n",
    "            else:\n",
    "                r=m-1\n",
    "        return(l-1)"
   ]
  },
  {
   "cell_type": "code",
   "execution_count": 10,
   "id": "1ab01fba",
   "metadata": {},
   "outputs": [
    {
     "name": "stdout",
     "output_type": "stream",
     "text": [
      "2\n"
     ]
    }
   ],
   "source": [
    "s = Solution()\n",
    "\n",
    "print(s.arrangeCoins(5))"
   ]
  },
  {
   "cell_type": "markdown",
   "id": "6e1ad871",
   "metadata": {},
   "source": [
    "**Q.6.** Given an integer array nums sorted in **non-decreasing** order, return *an array of **the squares of each number** sorted in non-decreasing order*.\n",
    "\n",
    "**Example 1:**\n",
    "\n",
    "**Input:** nums = [-4,-1,0,3,10]\n",
    "\n",
    "**Output:** [0,1,9,16,100]\n",
    "\n",
    "**Explanation:** After squaring, the array becomes [16,1,0,9,100].\n",
    "    \n",
    "After sorting, it becomes [0,1,9,16,100]"
   ]
  },
  {
   "cell_type": "code",
   "execution_count": 12,
   "id": "ff9d4cc4",
   "metadata": {},
   "outputs": [
    {
     "name": "stdout",
     "output_type": "stream",
     "text": [
      "[0, 1, 9, 16, 100]\n"
     ]
    }
   ],
   "source": [
    "def sortedSquares(nums):\n",
    "    n = len(nums)\n",
    "    left = 0\n",
    "    right = n - 1\n",
    "    result = [0] * n\n",
    "    for i in range(n - 1, -1, -1):\n",
    "        if abs(nums[left]) > abs(nums[right]):\n",
    "            result[i] = nums[left] * nums[left]\n",
    "            left += 1\n",
    "        else:\n",
    "            result[i] = nums[right] * nums[right]\n",
    "            right -= 1\n",
    "    return result\n",
    "\n",
    "nums = [-4,-1,0,3,10]\n",
    "print(sortedSquares(nums))"
   ]
  },
  {
   "cell_type": "markdown",
   "id": "8616c351",
   "metadata": {},
   "source": [
    "**Q.7.** You are given an m x n matrix M initialized with all 0's and an array of operations ops, where ops[i] = [ai, bi] means M[x][y] should be incremented by one for all 0 <= x < ai and 0 <= y < bi.\n",
    "\n",
    "Count and return *the number of maximum integers in the matrix after performing all the operations*\n",
    "\n",
    "**Example 1:**\n",
    "\n",
    "###![PPT4_Q7.jpg](attachment:PPT4_Q7.jpg)\n",
    "\n",
    "**Input:** m = 3, n = 3, ops = [[2,2],[3,3]]\n",
    "\n",
    "**Output:** 4\n",
    "\n",
    "**Explanation:** The maximum integer in M is 2, and there are four of it in M. So return 4."
   ]
  },
  {
   "cell_type": "code",
   "execution_count": 13,
   "id": "1595b2cb",
   "metadata": {},
   "outputs": [],
   "source": [
    "from typing import List\n",
    "\n",
    "class Solution:\n",
    "    def maxCount(self, m: int, n: int, ops: List[List[int]]) -> int:\n",
    "        if not ops:\n",
    "            return m * n\n",
    "        return min(op[0] for op in ops) * min(op[1] for op in ops)"
   ]
  },
  {
   "cell_type": "code",
   "execution_count": 14,
   "id": "03f379f2",
   "metadata": {},
   "outputs": [
    {
     "name": "stdout",
     "output_type": "stream",
     "text": [
      "4\n"
     ]
    }
   ],
   "source": [
    "s1 = Solution()\n",
    "\n",
    "print(s1.maxCount(3, 3, [[2,2],[3,3]]))"
   ]
  },
  {
   "cell_type": "markdown",
   "id": "5ebdd256",
   "metadata": {},
   "source": [
    "**Q.8.** Given the array nums consisting of 2n elements in the form [x1,x2,...,xn,y1,y2,...,yn].\n",
    "\n",
    "*Return the array in the form* [x1,y1,x2,y2,...,xn,yn].\n",
    "\n",
    "**Example 1:**\n",
    "\n",
    "**Input:** nums = [2,5,1,3,4,7], n = 3\n",
    "\n",
    "**Output:** [2,3,5,4,1,7]\n",
    "\n",
    "**Explanation:** Since x1=2, x2=5, x3=1, y1=3, y2=4, y3=7 then the answer is [2,3,5,4,1,7]."
   ]
  },
  {
   "cell_type": "code",
   "execution_count": 15,
   "id": "46e0e54b",
   "metadata": {},
   "outputs": [],
   "source": [
    "from typing import List\n",
    "class Solution:\n",
    "    def shuffle(self, nums: List[int], n: int) -> List[int]:\n",
    "        return [nums[i // 2 + i % 2 * n] for i in range(2 * n)]"
   ]
  },
  {
   "cell_type": "code",
   "execution_count": 16,
   "id": "1c0fea1b",
   "metadata": {},
   "outputs": [
    {
     "name": "stdout",
     "output_type": "stream",
     "text": [
      "[2, 3, 5, 4, 1, 7]\n"
     ]
    }
   ],
   "source": [
    "s2 = Solution()\n",
    "\n",
    "print(s2.shuffle([2,5,1,3,4,7], 3))"
   ]
  },
  {
   "cell_type": "code",
   "execution_count": null,
   "id": "81dbf7ee",
   "metadata": {},
   "outputs": [],
   "source": []
  },
  {
   "cell_type": "code",
   "execution_count": null,
   "id": "52105a37",
   "metadata": {},
   "outputs": [],
   "source": []
  },
  {
   "cell_type": "code",
   "execution_count": null,
   "id": "36b2a770",
   "metadata": {},
   "outputs": [],
   "source": []
  },
  {
   "cell_type": "code",
   "execution_count": null,
   "id": "a4c2b01e",
   "metadata": {},
   "outputs": [],
   "source": []
  }
 ],
 "metadata": {
  "kernelspec": {
   "display_name": "Python 3 (ipykernel)",
   "language": "python",
   "name": "python3"
  },
  "language_info": {
   "codemirror_mode": {
    "name": "ipython",
    "version": 3
   },
   "file_extension": ".py",
   "mimetype": "text/x-python",
   "name": "python",
   "nbconvert_exporter": "python",
   "pygments_lexer": "ipython3",
   "version": "3.9.7"
  }
 },
 "nbformat": 4,
 "nbformat_minor": 5
}
