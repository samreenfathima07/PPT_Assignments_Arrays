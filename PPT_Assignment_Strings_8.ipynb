{
 "cells": [
  {
   "cell_type": "markdown",
   "id": "4d37ac49",
   "metadata": {},
   "source": [
    "Q.1. Given two strings s1 and s2, return the lowest ASCII* sum of deleted characters to make two strings equal*.\n",
    "\n",
    "Example 1:\n",
    "\n",
    "Input: s1 = \"sea\", s2 = \"eat\"\n",
    "\n",
    "Output: 231\n",
    "\n",
    "Explanation: Deleting \"s\" from \"sea\" adds the ASCII value of \"s\" (115) to the sum.\n",
    "\n",
    "Deleting \"t\" from \"eat\" adds 116 to the sum.\n",
    "\n",
    "At the end, both strings are equal, and 115 + 116 = 231 is the minimum sum possible to achieve this."
   ]
  },
  {
   "cell_type": "code",
   "execution_count": 1,
   "id": "91e94206",
   "metadata": {},
   "outputs": [
    {
     "data": {
      "text/plain": [
       "231"
      ]
     },
     "execution_count": 1,
     "metadata": {},
     "output_type": "execute_result"
    }
   ],
   "source": [
    "def minimumDeleteSum(s1, s2):\n",
    "\n",
    "    dp = [[0] * (len(s2) + 1) for _ in range(len(s1) + 1)]\n",
    "    for i in range(1, len(s1) + 1):\n",
    "        for j in range(1, len(s2) + 1):\n",
    "            if s1[i - 1] == s2[j - 1]:\n",
    "                dp[i][j] = dp[i - 1][j - 1] + ord(s1[i - 1])\n",
    "            else:\n",
    "                dp[i][j] = max(dp[i - 1][j], dp[i][j - 1])\n",
    "    total = sum(ord(c) for c in s1) + sum(ord(c) for c in s2)\n",
    "    return total - dp[len(s1)][len(s2)] * 2\n",
    "\n",
    "s1 = \"sea\"\n",
    "s2 = \"eat\"\n",
    "minimumDeleteSum(s1, s2)"
   ]
  },
  {
   "cell_type": "markdown",
   "id": "6123032c",
   "metadata": {},
   "source": [
    "Q.2. Given a string s containing only three types of characters: '(', ')' and '', return true if* s is valid**.\n",
    "\n",
    "The following rules define a valid string:\n",
    "\n",
    "Any left parenthesis '(' must have a corresponding right parenthesis ')'.\n",
    "Any right parenthesis ')' must have a corresponding left parenthesis '('.\n",
    "Left parenthesis '(' must go before the corresponding right parenthesis ')'.\n",
    "'*' could be treated as a single right parenthesis ')' or a single left parenthesis '(' or an empty string \"\".\n",
    "Example 1:\n",
    "\n",
    "Input: s = \"()\"\n",
    "\n",
    "Output: true"
   ]
  },
  {
   "cell_type": "code",
   "execution_count": 2,
   "id": "8dd730a9",
   "metadata": {},
   "outputs": [
    {
     "data": {
      "text/plain": [
       "True"
      ]
     },
     "execution_count": 2,
     "metadata": {},
     "output_type": "execute_result"
    }
   ],
   "source": [
    "def isValid(s):\n",
    "    stack = []\n",
    "    for c in s:\n",
    "        if c == '(':\n",
    "            stack.append(c)\n",
    "        elif c == ')':\n",
    "            if not stack or (stack[-1] != '(' and stack[-1] != '*'):\n",
    "                return False\n",
    "            else:\n",
    "                stack.pop()\n",
    "        else:\n",
    "            stack.append(c)\n",
    "    \n",
    "    left = 0\n",
    "    star = 0\n",
    "    while stack:\n",
    "        top = stack.pop()\n",
    "        if top == '(':\n",
    "            left += 1\n",
    "        else:\n",
    "            star += 1\n",
    "        if star < left:\n",
    "            return False\n",
    "    return True\n",
    "\n",
    "s = \"()\"\n",
    "isValid(s)"
   ]
  },
  {
   "cell_type": "markdown",
   "id": "918809b3",
   "metadata": {},
   "source": [
    "Q.3. Given two strings word1 and word2, return the minimum number of steps* required to make* word1 and word2 the same.\n",
    "\n",
    "In one step, you can delete exactly one character in either string.\n",
    "\n",
    "Example 1:\n",
    "\n",
    "Input: word1 = \"sea\", word2 = \"eat\"\n",
    "\n",
    "Output: 2\n",
    "\n",
    "Explanation: You need one step to make \"sea\" to \"ea\" and another step to make \"eat\" to \"ea\""
   ]
  },
  {
   "cell_type": "code",
   "execution_count": 3,
   "id": "1aac80bf",
   "metadata": {},
   "outputs": [
    {
     "data": {
      "text/plain": [
       "2"
      ]
     },
     "execution_count": 3,
     "metadata": {},
     "output_type": "execute_result"
    }
   ],
   "source": [
    "def minDistance(word1, word2):\n",
    "    dp = [[0] * (len(word2) + 1) for _ in range(len(word1) + 1)]\n",
    "    for i in range(len(word1) + 1):\n",
    "        for j in range(len(word2) + 1):\n",
    "            if i == 0:\n",
    "                dp[i][j] = j\n",
    "            elif j == 0:\n",
    "                dp[i][j] = i\n",
    "            elif word1[i - 1] == word2[j - 1]:\n",
    "                dp[i][j] = dp[i - 1][j - 1]\n",
    "            else:\n",
    "                dp[i][j] = min(dp[i - 1][j], dp[i][j - 1]) + 1\n",
    "    return dp[len(word1)][len(word2)]\n",
    "\n",
    "word1 = \"sea\"\n",
    "word2 = \"eat\"\n",
    "\n",
    "minDistance(word1, word2)"
   ]
  },
  {
   "cell_type": "markdown",
   "id": "0130148b",
   "metadata": {},
   "source": [
    "Q.4. You need to construct a binary tree from a string consisting of parenthesis and integers.\n",
    "\n",
    "The whole input represents a binary tree. It contains an integer followed by zero, one or two pairs of parenthesis. The integer represents the root's value and a pair of parenthesis contains a child binary tree with the same structure.\n",
    "\n",
    "You always start to construct the left child node of the parent first if it exists.\n",
    "\n",
    "\n",
    "\n",
    "Input: s = \"4(2(3)(1))(6(5))\"\n",
    "\n",
    "Output: [4,2,6,3,1,5]"
   ]
  },
  {
   "cell_type": "code",
   "execution_count": 5,
   "id": "960c4260",
   "metadata": {},
   "outputs": [
    {
     "name": "stdout",
     "output_type": "stream",
     "text": [
      "[4, 2, 3, 1, 6, 5]\n"
     ]
    }
   ],
   "source": [
    "class Node:\n",
    "    def __init__(self, val):\n",
    "        self.val = val\n",
    "        self.left = None\n",
    "        self.right = None\n",
    "\n",
    "def str2tree(s):\n",
    "    if not s:\n",
    "        return None\n",
    "    stack = []\n",
    "    i = 0\n",
    "    while i < len(s):\n",
    "        if s[i] == ')':\n",
    "            stack.pop()\n",
    "        elif s[i].isdigit() or s[i] == '-':\n",
    "            start = i\n",
    "            while i + 1 < len(s) and s[i + 1].isdigit():\n",
    "                i += 1\n",
    "            node = Node(int(s[start:i + 1]))\n",
    "            if stack:\n",
    "                parent = stack[-1]\n",
    "                if not parent.left:\n",
    "                    parent.left = node\n",
    "                else:\n",
    "                    parent.right = node\n",
    "            stack.append(node)\n",
    "        i += 1\n",
    "    return stack[0]\n",
    "\n",
    "def preorder(root):\n",
    "    if not root:\n",
    "        return []\n",
    "    return [root.val] + preorder(root.left) + preorder(root.right)\n",
    "\n",
    "s = \"4(2(3)(1))(6(5))\"\n",
    "root = str2tree(s)\n",
    "print(preorder(root))"
   ]
  },
  {
   "cell_type": "markdown",
   "id": "d6416eec",
   "metadata": {},
   "source": [
    "Q.5. Given an array of characters chars, compress it using the following algorithm:\n",
    "\n",
    "Begin with an empty string s. For each group of consecutive repeating characters in chars:\n",
    "\n",
    "If the group's length is 1, append the character to s.\n",
    "Otherwise, append the character followed by the group's length.\n",
    "The compressed string s should not be returned separately, but instead, be stored in the input character array chars. Note that group lengths that are 10 or longer will be split into multiple characters in chars.\n",
    "\n",
    "After you are done modifying the input array, return the new length of the array.\n",
    "\n",
    "You must write an algorithm that uses only constant extra space.\n",
    "\n",
    "Example 1:\n",
    "\n",
    "Input: chars = [\"a\",\"a\",\"b\",\"b\",\"c\",\"c\",\"c\"]\n",
    "\n",
    "Output: Return 6, and the first 6 characters of the input array should be: [\"a\",\"2\",\"b\",\"2\",\"c\",\"3\"]\n",
    "\n",
    "Explanation:\n",
    "\n",
    "The groups are \"aa\", \"bb\", and \"ccc\". This compresses to \"a2b2c3\"."
   ]
  },
  {
   "cell_type": "code",
   "execution_count": 7,
   "id": "6edb978b",
   "metadata": {},
   "outputs": [],
   "source": [
    "def compress(chars):\n",
    "    \"\"\"\n",
    "    :type chars: List[str]\n",
    "    :rtype: int\n",
    "    \"\"\"\n",
    "    # Initialize variables\n",
    "    count = 1\n",
    "    index = 0\n",
    "\n",
    "    # Loop through the input list\n",
    "    for i in range(1, len(chars) + 1):\n",
    "        # If the current character is the same as the previous one\n",
    "        if i < len(chars) and chars[i] == chars[i - 1]:\n",
    "            count += 1\n",
    "        else:\n",
    "            # Replace the current character with its compressed version\n",
    "            chars[index] = chars[i - 1]\n",
    "            index += 1\n",
    "\n",
    "            # If there are more than one consecutive characters,\n",
    "            # add their count to the compressed string\n",
    "            if count > 1:\n",
    "                for c in str(count):\n",
    "                    chars[index] = c\n",
    "                    index += 1\n",
    "\n",
    "            # Reset the count for the next group of consecutive characters\n",
    "            count = 1\n",
    "\n",
    "    return index"
   ]
  },
  {
   "cell_type": "code",
   "execution_count": 8,
   "id": "32d90acc",
   "metadata": {},
   "outputs": [
    {
     "name": "stdout",
     "output_type": "stream",
     "text": [
      "['a', '2', 'b', '2', 'c', '3']\n"
     ]
    }
   ],
   "source": [
    "chars = [\"a\",\"a\",\"b\",\"b\",\"c\",\"c\",\"c\"]\n",
    "compress(chars)\n",
    "\n",
    "print(chars[:6])\n"
   ]
  },
  {
   "cell_type": "markdown",
   "id": "cbaf241d",
   "metadata": {},
   "source": [
    "Q.6. Given two strings s and p, return an array of all the start indices of p's anagrams in s. You may return the answer in any order.\n",
    "\n",
    "An Anagram is a word or phrase formed by rearranging the letters of a different word or phrase, typically using all the original letters exactly once.\n",
    "\n",
    "Example 1:\n",
    "\n",
    "Input: s = \"cbaebabacd\", p = \"abc\"\n",
    "\n",
    "Output: [0,6]\n",
    "\n",
    "Explanation:\n",
    "\n",
    "The substring with start index = 0 is \"cba\", which is an anagram of \"abc\".\n",
    "\n",
    "The substring with start index = 6 is \"bac\", which is an anagram of \"abc\"."
   ]
  },
  {
   "cell_type": "code",
   "execution_count": 9,
   "id": "21d0ae1e",
   "metadata": {},
   "outputs": [],
   "source": [
    "def findAnagrams(s, p):\n",
    "    \"\"\"\n",
    "    :type s: str\n",
    "    :type p: str\n",
    "    :rtype: List[int]\n",
    "    \"\"\"\n",
    "    # Initialize variables\n",
    "    result = []\n",
    "    s_count = [0] * 26\n",
    "    p_count = [0] * 26\n",
    "\n",
    "    # Count the frequency of each character in p\n",
    "    for c in p:\n",
    "        p_count[ord(c) - ord('a')] += 1\n",
    "\n",
    "    # Loop through the input string s\n",
    "    for i in range(len(s)):\n",
    "        # Add the current character to the window\n",
    "        s_count[ord(s[i]) - ord('a')] += 1\n",
    "\n",
    "        # Remove the first character from the window if it's outside the window size\n",
    "        if i >= len(p):\n",
    "            s_count[ord(s[i - len(p)]) - ord('a')] -= 1\n",
    "\n",
    "        # Compare the frequency of characters in the window with that of p\n",
    "        if s_count == p_count:\n",
    "            result.append(i - len(p) + 1)\n",
    "\n",
    "    return result"
   ]
  },
  {
   "cell_type": "code",
   "execution_count": 10,
   "id": "5c693efc",
   "metadata": {},
   "outputs": [
    {
     "data": {
      "text/plain": [
       "[0, 6]"
      ]
     },
     "execution_count": 10,
     "metadata": {},
     "output_type": "execute_result"
    }
   ],
   "source": [
    "s = \"cbaebabacd\"\n",
    "p = \"abc\"\n",
    "\n",
    "findAnagrams(s, p)"
   ]
  },
  {
   "cell_type": "markdown",
   "id": "84dab75d",
   "metadata": {},
   "source": [
    "Q.7. Given an encoded string, return its decoded string.\n",
    "\n",
    "The encoding rule is: k[encoded_string], where the encoded_string inside the square brackets is being repeated exactly k times. Note that k is guaranteed to be a positive integer.\n",
    "\n",
    "You may assume that the input string is always valid; there are no extra white spaces, square brackets are well-formed, etc. Furthermore, you may assume that the original data does not contain any digits and that digits are only for those repeat numbers, k. For example, there will not be input like 3a or 2[4].\n",
    "\n",
    "The test cases are generated so that the length of the output will never exceed 105.\n",
    "\n",
    "Example 1:\n",
    "\n",
    "Input: s = \"3[a]2[bc]\"\n",
    "\n",
    "Output: \"aaabcbc\""
   ]
  },
  {
   "cell_type": "code",
   "execution_count": 11,
   "id": "fef48d79",
   "metadata": {},
   "outputs": [
    {
     "name": "stdout",
     "output_type": "stream",
     "text": [
      "aaabcbc\n"
     ]
    }
   ],
   "source": [
    "def decodeString(s):\n",
    "    stack = []\n",
    "    currStr = ''\n",
    "    currNum = 0\n",
    "    for c in s:\n",
    "        if c == '[':\n",
    "            stack.append(currStr)\n",
    "            stack.append(currNum)\n",
    "            currStr = ''\n",
    "            currNum = 0\n",
    "        elif c == ']':\n",
    "            num = stack.pop()\n",
    "            prevStr = stack.pop()\n",
    "            currStr = prevStr + num * currStr\n",
    "        elif c.isdigit():\n",
    "            currNum = currNum * 10 + int(c)\n",
    "        else:\n",
    "            currStr += c\n",
    "    return currStr\n",
    "\n",
    "s = \"3[a]2[bc]\"\n",
    "print(decodeString(s))"
   ]
  },
  {
   "cell_type": "markdown",
   "id": "c8a80a35",
   "metadata": {},
   "source": [
    "Q.8. Given two strings s and goal, return true if you can swap two letters in s so the result is equal to goal, otherwise, return false.\n",
    "\n",
    "Swapping letters is defined as taking two indices i and j (0-indexed) such that i != j and swapping the characters at s[i] and s[j].\n",
    "\n",
    "For example, swapping at indices 0 and 2 in \"abcd\" results in \"cbad\".\n",
    "Example 1:\n",
    "\n",
    "Input: s = \"ab\", goal = \"ba\"\n",
    "\n",
    "Output: true\n",
    "\n",
    "Explanation: You can swap s[0] = 'a' and s[1] = 'b' to get \"ba\", which is equal to goal."
   ]
  },
  {
   "cell_type": "code",
   "execution_count": 12,
   "id": "26f73499",
   "metadata": {},
   "outputs": [
    {
     "data": {
      "text/plain": [
       "True"
      ]
     },
     "execution_count": 12,
     "metadata": {},
     "output_type": "execute_result"
    }
   ],
   "source": [
    "def swap_letters(s, goal):\n",
    "    \n",
    "    if len(s) != len(goal):\n",
    "        return False\n",
    "    \n",
    "    diff = []\n",
    "    for i in range(len(s)):\n",
    "        if s[i] != goal[i]:\n",
    "            diff.append(i)\n",
    "            \n",
    "    if len(diff) == 2 and s[diff[0]] == goal[diff[1]] and s[diff[1]] == goal[diff[0]]:\n",
    "        return True\n",
    "    \n",
    "    return False\n",
    "\n",
    "s = \"ab\"\n",
    "goal = \"ba\"\n",
    "\n",
    "swap_letters(s, goal)"
   ]
  },
  {
   "cell_type": "code",
   "execution_count": null,
   "id": "d72734c3",
   "metadata": {},
   "outputs": [],
   "source": []
  }
 ],
 "metadata": {
  "kernelspec": {
   "display_name": "Python 3 (ipykernel)",
   "language": "python",
   "name": "python3"
  },
  "language_info": {
   "codemirror_mode": {
    "name": "ipython",
    "version": 3
   },
   "file_extension": ".py",
   "mimetype": "text/x-python",
   "name": "python",
   "nbconvert_exporter": "python",
   "pygments_lexer": "ipython3",
   "version": "3.9.7"
  }
 },
 "nbformat": 4,
 "nbformat_minor": 5
}
