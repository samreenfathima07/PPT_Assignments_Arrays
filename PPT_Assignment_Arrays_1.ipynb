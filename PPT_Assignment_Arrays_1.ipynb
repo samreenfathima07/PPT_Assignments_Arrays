{
 "cells": [
  {
   "cell_type": "markdown",
   "id": "170e286a",
   "metadata": {},
   "source": [
    "Q.1. Given an array of integers nums and an integer target, return indices of the two numbers such that they add up to target.\n",
    "\n",
    "You may assume that each input would have exactly one solution, and you may not use the same element twice.\n",
    "\n",
    "You can return the answer in any order.\n",
    "\n",
    "Example:\n",
    "\n",
    "Input: nums = [2,7,11,15], target = 9\n",
    "Output0 [0,1]\n",
    "\n",
    "Explanation: Because nums[0] + nums[1] == 9, we return [0, 1]"
   ]
  },
  {
   "cell_type": "code",
   "execution_count": 1,
   "id": "425659ca",
   "metadata": {},
   "outputs": [],
   "source": [
    "def twoSum(nums, target):\n",
    "    hash_table = {}\n",
    "    for i, num in enumerate(nums):\n",
    "        diff = target - num\n",
    "        if diff in hash_table:\n",
    "            return [hash_table[diff], i]\n",
    "        hash_table[num] = i"
   ]
  },
  {
   "cell_type": "code",
   "execution_count": 2,
   "id": "8a03bcc3",
   "metadata": {},
   "outputs": [
    {
     "data": {
      "text/plain": [
       "[0, 1]"
      ]
     },
     "execution_count": 2,
     "metadata": {},
     "output_type": "execute_result"
    }
   ],
   "source": [
    "twoSum([2,7,11,15], 9)"
   ]
  },
  {
   "cell_type": "markdown",
   "id": "74592203",
   "metadata": {},
   "source": [
    "Q.2. Given an integer array nums and an integer val, remove all occurrences of val in nums in-place. The order of the elements may be changed. Then return the number of elements in nums which are not equal to val.\n",
    "\n",
    "Consider the number of elements in nums which are not equal to val be k, to get accepted, you need to do the following things:\n",
    "\n",
    "Change the array nums such that the first k elements of nums contain the elements which are not equal to val. The remaining elements of nums are not important as well as the size of nums.\n",
    "Return k.\n",
    "\n",
    "Example : Input: nums = [3,2,2,3], val = 3\n",
    "Output: 2, nums = [2,2,*,*]\n",
    "\n",
    "Explanation: Your function should return k = 2, with the first two elements of nums being 2. It does not matter what you leave beyond the returned k (hence they are underscores)"
   ]
  },
  {
   "cell_type": "code",
   "execution_count": 3,
   "id": "494ac3f3",
   "metadata": {},
   "outputs": [],
   "source": [
    "def removeElement(nums, val):\n",
    "    i = 0\n",
    "    for j in range(len(nums)):\n",
    "        if nums[j] != val:\n",
    "            nums[i] = nums[j]\n",
    "            i += 1\n",
    "    return i"
   ]
  },
  {
   "cell_type": "markdown",
   "id": "fbfc2bb2",
   "metadata": {},
   "source": [
    "Q.3. Given a sorted array of distinct integers and a target value, return the index if the target is found. If not, return the index where it would be if it were inserted in order.\n",
    "\n",
    "You must write an algorithm with O(log n) runtime complexity.\n",
    "\n",
    "Example 1: Input: nums = [1,3,5,6], target = 5\n",
    "\n",
    "Output: 2"
   ]
  },
  {
   "cell_type": "code",
   "execution_count": 4,
   "id": "a19899db",
   "metadata": {},
   "outputs": [],
   "source": [
    "def searchInsert(nums, target):\n",
    "    left, right = 0, len(nums) - 1\n",
    "    while left <= right:\n",
    "        mid = (left + right) // 2\n",
    "        if nums[mid] == target:\n",
    "            return mid\n",
    "        elif nums[mid] < target:\n",
    "            left = mid + 1\n",
    "        else:\n",
    "            right = mid - 1\n",
    "    return left"
   ]
  },
  {
   "cell_type": "code",
   "execution_count": 5,
   "id": "6d0ede9e",
   "metadata": {},
   "outputs": [
    {
     "data": {
      "text/plain": [
       "1"
      ]
     },
     "execution_count": 5,
     "metadata": {},
     "output_type": "execute_result"
    }
   ],
   "source": [
    "searchInsert([1, 3, 5, 6], 3)"
   ]
  },
  {
   "cell_type": "markdown",
   "id": "52a6182b",
   "metadata": {},
   "source": [
    "Q.4. You are given a large integer represented as an integer array digits, where each digits[i] is the ith digit of the integer. The digits are ordered from most significant to least significant in left-to-right order. The large integer does not contain any leading 0's.\n",
    "\n",
    "Increment the large integer by one and return the resulting array of digits.\n",
    "\n",
    "Example 1:\n",
    "\n",
    "Input: digits = [1,2,3]\n",
    "\n",
    "Output: [1,2,4]\n",
    "\n",
    "Explanation: The array represents the integer 123.\n",
    "\n",
    "Incrementing by one gives 123 + 1 = 124.\n",
    "\n",
    "Thus, the result should be [1,2,4]."
   ]
  },
  {
   "cell_type": "code",
   "execution_count": 7,
   "id": "dfa5f85e",
   "metadata": {},
   "outputs": [],
   "source": [
    "def plusOne(digits):\n",
    "    carry = 1\n",
    "    for i in range(len(digits) - 1, -1, -1):\n",
    "        digits[i] += carry\n",
    "        if digits[i] >= 10:\n",
    "            digits[i] = 0\n",
    "            carry = 1\n",
    "        else:\n",
    "            carry = 0\n",
    "            break\n",
    "    if carry == 1:\n",
    "        digits.insert(0, 1)\n",
    "    return digits"
   ]
  },
  {
   "cell_type": "code",
   "execution_count": 8,
   "id": "2cc31b2b",
   "metadata": {},
   "outputs": [
    {
     "data": {
      "text/plain": [
       "[1, 2, 4]"
      ]
     },
     "execution_count": 8,
     "metadata": {},
     "output_type": "execute_result"
    }
   ],
   "source": [
    "plusOne([1,2,3])\n"
   ]
  },
  {
   "cell_type": "markdown",
   "id": "31ab85af",
   "metadata": {},
   "source": [
    "Q.5 You are given two integer arrays nums1 and nums2, sorted in non-decreasing order, and two integers m and n, representing the number of elements in nums1 and nums2 respectively.\n",
    "\n",
    "Merge nums1 and nums2 into a single array sorted in non-decreasing order.\n",
    "\n",
    "The final sorted array should not be returned by the function, but instead be stored inside the array nums1. To accommodate this, nums1 has a length of m + n, where the first m elements denote the elements that should be merged, and the last n elements are set to 0 and should be ignored. nums2 has a length of n.\n",
    "\n",
    "Example 1:\n",
    "\n",
    "Input: nums1 = [1,2,3,0,0,0], m = 3, nums2 = [2,5,6], n = 3\n",
    "\n",
    "Output: [1,2,2,3,5,6]\n",
    "\n",
    "Explanation: The arrays we are merging are [1,2,3] and [2,5,6].\n",
    "\n",
    "The result of the merge is [1,2,2,3,5,6] with the underlined elements coming from nums1."
   ]
  },
  {
   "cell_type": "code",
   "execution_count": 9,
   "id": "95a776f8",
   "metadata": {},
   "outputs": [],
   "source": [
    "def merge(nums1, m, nums2, n):\n",
    "    i, j, k = m - 1, n - 1, m + n - 1\n",
    "    while i >= 0 and j >= 0:\n",
    "        if nums1[i] > nums2[j]:\n",
    "            nums1[k] = nums1[i]\n",
    "            i -= 1\n",
    "        else:\n",
    "            nums1[k] = nums2[j]\n",
    "            j -= 1\n",
    "        k -= 1\n",
    "    while j >= 0:\n",
    "        nums1[k] = nums2[j]\n",
    "        j -= 1\n",
    "        k -= 1\n",
    "      \n",
    "nums1 = [1, 2, 3, 0, 0, 0]\n",
    "m = 3\n",
    "nums2 = [2, 5, 6]\n",
    "n = 3"
   ]
  },
  {
   "cell_type": "code",
   "execution_count": 10,
   "id": "5a4a4689",
   "metadata": {},
   "outputs": [
    {
     "data": {
      "text/plain": [
       "[1, 2, 2, 3, 5, 6]"
      ]
     },
     "execution_count": 10,
     "metadata": {},
     "output_type": "execute_result"
    }
   ],
   "source": [
    "merge(nums1, m, nums2, n)\n",
    "\n",
    "nums1"
   ]
  },
  {
   "cell_type": "markdown",
   "id": "6dfa9784",
   "metadata": {},
   "source": [
    "Q.6. Given an integer array nums, return true if any value appears at least twice in the array, and return false if every element is distinct.\n",
    "\n",
    "Example 1:\n",
    "\n",
    "Input: nums = [1,2,3,1]\n",
    "\n",
    "Output: true"
   ]
  },
  {
   "cell_type": "code",
   "execution_count": 11,
   "id": "e36d9d6d",
   "metadata": {},
   "outputs": [],
   "source": [
    "def containsDuplicate(nums):\n",
    "    hash_table = {}\n",
    "    for num in nums:\n",
    "        if num in hash_table:\n",
    "            return True\n",
    "        else:\n",
    "            hash_table[num] = 1\n",
    "    return False"
   ]
  },
  {
   "cell_type": "code",
   "execution_count": 12,
   "id": "028eefbb",
   "metadata": {},
   "outputs": [
    {
     "data": {
      "text/plain": [
       "False"
      ]
     },
     "execution_count": 12,
     "metadata": {},
     "output_type": "execute_result"
    }
   ],
   "source": [
    "containsDuplicate([1, 2, 3, 4])"
   ]
  },
  {
   "cell_type": "markdown",
   "id": "0f7a331f",
   "metadata": {},
   "source": [
    "Q.7. Given an integer array nums, move all 0's to the end of it while maintaining the relative order of the nonzero elements.\n",
    "\n",
    "Note that you must do this in-place without making a copy of the array.\n",
    "\n",
    "Example 1:\n",
    "\n",
    "Input: nums = [0,1,0,3,12]\n",
    "\n",
    "Output: [1,3,12,0,0]"
   ]
  },
  {
   "cell_type": "code",
   "execution_count": 14,
   "id": "d7bde27f",
   "metadata": {},
   "outputs": [],
   "source": [
    "def moveZeroes(nums):\n",
    "    i = 0\n",
    "    for j in range(len(nums)):\n",
    "        if nums[j] != 0:\n",
    "            nums[i] = nums[j]\n",
    "            i += 1\n",
    "    for j in range(i, len(nums)):\n",
    "        nums[j] = 0\n",
    "        \n",
    "nums = [0, 1, 0, 3, 12]\n"
   ]
  },
  {
   "cell_type": "code",
   "execution_count": 15,
   "id": "ee9783f6",
   "metadata": {},
   "outputs": [],
   "source": [
    "moveZeroes(nums)"
   ]
  },
  {
   "cell_type": "code",
   "execution_count": 16,
   "id": "7b9e7c14",
   "metadata": {},
   "outputs": [
    {
     "name": "stdout",
     "output_type": "stream",
     "text": [
      "[1, 3, 12, 0, 0]\n"
     ]
    }
   ],
   "source": [
    "print(nums)"
   ]
  },
  {
   "cell_type": "markdown",
   "id": "d389a2ef",
   "metadata": {},
   "source": [
    "Q.8. You have a set of integers s, which originally contains all the numbers from 1 to n. Unfortunately, due to some error, one of the numbers in s got duplicated to another number in the set, which results in repetition of one number and loss of another number.\n",
    "\n",
    "You are given an integer array nums representing the data status of this set after the error.\n",
    "\n",
    "Find the number that occurs twice and the number that is missing and return them in the form of an array.\n",
    "\n",
    "Example 1:\n",
    "\n",
    "Input: nums = [1,2,2,4]\n",
    "\n",
    "Output: [2,3]"
   ]
  },
  {
   "cell_type": "code",
   "execution_count": 17,
   "id": "a8f2f78a",
   "metadata": {},
   "outputs": [],
   "source": [
    "def findErrorNums(nums):\n",
    "    n = len(nums)\n",
    "    hash_table = {}\n",
    "    for num in nums:\n",
    "        if num in hash_table:\n",
    "            duplicate = num\n",
    "        else:\n",
    "            hash_table[num] = 1\n",
    "    for i in range(1, n + 1):\n",
    "        if i not in hash_table:\n",
    "            missing = i\n",
    "    return [duplicate, missing]"
   ]
  },
  {
   "cell_type": "code",
   "execution_count": 18,
   "id": "3d2cc1a6",
   "metadata": {},
   "outputs": [
    {
     "data": {
      "text/plain": [
       "[2, 3]"
      ]
     },
     "execution_count": 18,
     "metadata": {},
     "output_type": "execute_result"
    }
   ],
   "source": [
    "findErrorNums([1, 2, 2, 4])"
   ]
  },
  {
   "cell_type": "code",
   "execution_count": null,
   "id": "443dcc78",
   "metadata": {},
   "outputs": [],
   "source": []
  },
  {
   "cell_type": "code",
   "execution_count": null,
   "id": "a25b72af",
   "metadata": {},
   "outputs": [],
   "source": []
  },
  {
   "cell_type": "code",
   "execution_count": null,
   "id": "0d62e45d",
   "metadata": {},
   "outputs": [],
   "source": []
  }
 ],
 "metadata": {
  "kernelspec": {
   "display_name": "Python 3 (ipykernel)",
   "language": "python",
   "name": "python3"
  },
  "language_info": {
   "codemirror_mode": {
    "name": "ipython",
    "version": 3
   },
   "file_extension": ".py",
   "mimetype": "text/x-python",
   "name": "python",
   "nbconvert_exporter": "python",
   "pygments_lexer": "ipython3",
   "version": "3.9.7"
  }
 },
 "nbformat": 4,
 "nbformat_minor": 5
}
