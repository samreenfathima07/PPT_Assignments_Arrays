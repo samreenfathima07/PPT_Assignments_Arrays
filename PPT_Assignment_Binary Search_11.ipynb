{
 "cells": [
  {
   "cell_type": "markdown",
   "id": "44566255",
   "metadata": {},
   "source": [
    "Q.1. Given a non-negative integer x, return the square root of x rounded down to the nearest integer. The returned integer should be non-negative as well.\n",
    "\n",
    "You must not use any built-in exponent function or operator.\n",
    "\n",
    "For example, do not use pow(x, 0.5) in c++ or x ** 0.5 in python.\n",
    "Example 1:\n",
    "\n",
    "Input: x = 4\n",
    "Output: 2\n",
    "Explanation: The square root of 4 is 2, so we return 2.\n",
    "Example 2:\n",
    "\n",
    "Input: x = 8\n",
    "Output: 2\n",
    "Explanation: The square root of 8 is 2.82842..., and since we round it down to the nearest integer, 2 is returned."
   ]
  },
  {
   "cell_type": "code",
   "execution_count": 1,
   "id": "c1586181",
   "metadata": {},
   "outputs": [
    {
     "name": "stdout",
     "output_type": "stream",
     "text": [
      "2\n",
      "2\n",
      "4\n"
     ]
    }
   ],
   "source": [
    "def square_root(x):\n",
    "    \n",
    "    if x == 0 or x == 1:\n",
    "        return x\n",
    "    \n",
    "    low = 0\n",
    "    high = x\n",
    "    ans = 0\n",
    "    \n",
    "    while low <= high:\n",
    "        mid = (low + high) // 2\n",
    "        \n",
    "        if mid * mid == x:\n",
    "            return mid\n",
    "        \n",
    "        elif mid * mid < x:\n",
    "            low = mid + 1\n",
    "            ans = mid\n",
    "        \n",
    "        else:\n",
    "            high = mid - 1\n",
    "    return ans\n",
    "\n",
    "print(square_root(4))\n",
    "print(square_root(8))\n",
    "print(square_root(16))"
   ]
  },
  {
   "cell_type": "markdown",
   "id": "6e1d02d7",
   "metadata": {},
   "source": [
    "Q.2. A peak element is an element that is strictly greater than its neighbors.\n",
    "\n",
    "Given a 0-indexed integer array nums, find a peak element, and return its index. If the array contains multiple peaks, return the index to any of the peaks.\n",
    "\n",
    "You may imagine that nums[-1] = nums[n] = -∞. In other words, an element is always considered to be strictly greater than a neighbor that is outside the array.\n",
    "\n",
    "You must write an algorithm that runs in O(log n) time.\n",
    "\n",
    "Example 1:\n",
    "\n",
    "Input: nums = [1,2,3,1]\n",
    "Output: 2\n",
    "Explanation: 3 is a peak element and your function should return the index number 2.\n",
    "Example 2:\n",
    "\n",
    "Input: nums = [1,2,1,3,5,6,4]\n",
    "Output: 5\n",
    "Explanation: Your function can return either index number 1 where the peak element is 2, or index number 5 where the peak element is 6."
   ]
  },
  {
   "cell_type": "code",
   "execution_count": 2,
   "id": "08da957e",
   "metadata": {},
   "outputs": [
    {
     "name": "stdout",
     "output_type": "stream",
     "text": [
      "2\n",
      "5\n"
     ]
    }
   ],
   "source": [
    "def find_peak_element(nums):\n",
    "    \n",
    "    if not nums:\n",
    "        return -1\n",
    "    \n",
    "    if len(nums) == 1:\n",
    "        return 0\n",
    "    \n",
    "    low = 0\n",
    "    high = len(nums) - 1\n",
    "    \n",
    "    while low < high:\n",
    "        mid = (low + high) // 2\n",
    "        \n",
    "        if nums[mid] > nums[mid + 1] and nums[mid] > nums[mid - 1]:\n",
    "            return mid\n",
    "        \n",
    "        elif nums[mid] < nums[mid + 1]:\n",
    "            low = mid + 1\n",
    "            \n",
    "        else:\n",
    "            high = mid - 1\n",
    "    return low\n",
    "\n",
    "print(find_peak_element([1,2,3,1]))\n",
    "print(find_peak_element([1,2,1,3,5,6,4]))"
   ]
  },
  {
   "cell_type": "markdown",
   "id": "c00cf6a3",
   "metadata": {},
   "source": [
    "Q.3. Given an array nums containing n distinct numbers in the range [0, n], return the only number in the range that is missing from the array.\n",
    "\n",
    "Example 1:\n",
    "\n",
    "Input: nums = [3,0,1]\n",
    "Output: 2\n",
    "Explanation: n = 3 since there are 3 numbers, so all numbers are in the range [0,3]. 2 is the missing number in the range since it does not appear in nums.\n",
    "\n",
    "Example 2:\n",
    "\n",
    "Input: nums = [0,1]\n",
    "Output: 2\n",
    "Explanation: n = 2 since there are 2 numbers, so all numbers are in the range [0,2]. 2 is the missing number in the range since it does not appear in nums.\n",
    "\n",
    "Example 3:\n",
    "\n",
    "Input: nums = [9,6,4,2,3,5,7,0,1]\n",
    "Output: 8\n",
    "Explanation: n = 9 since there are 9 numbers, so all numbers are in the range [0,9]. 8 is the missing number in the range since it does not appear in nums."
   ]
  },
  {
   "cell_type": "code",
   "execution_count": 3,
   "id": "1ce2fa28",
   "metadata": {},
   "outputs": [
    {
     "name": "stdout",
     "output_type": "stream",
     "text": [
      "2\n"
     ]
    }
   ],
   "source": [
    "def missing_number(nums):\n",
    "    \n",
    "    n = len(nums)\n",
    "    expected_sum = n * (n + 1) // 2\n",
    "    actual_sum = sum(nums)\n",
    "    return expected_sum - actual_sum\n",
    "\n",
    "nums = [3, 0, 1]\n",
    "print(missing_number(nums))"
   ]
  },
  {
   "cell_type": "markdown",
   "id": "13ef7c1e",
   "metadata": {},
   "source": [
    "Q.4. Given an array of integers nums containing n + 1 integers where each integer is in the range [1, n] inclusive.\n",
    "\n",
    "There is only one repeated number in nums, return this repeated number.\n",
    "\n",
    "You must solve the problem without modifying the array nums and uses only constant extra space.\n",
    "\n",
    "Example 1:\n",
    "\n",
    "Input: nums = [1,3,4,2,2]\n",
    "Output: 2\n",
    "\n",
    "Example 2:\n",
    "\n",
    "Input: nums = [3,1,3,4,2]\n",
    "Output: 3\n"
   ]
  },
  {
   "cell_type": "code",
   "execution_count": 5,
   "id": "58ca79c9",
   "metadata": {},
   "outputs": [
    {
     "name": "stdout",
     "output_type": "stream",
     "text": [
      "2\n"
     ]
    }
   ],
   "source": [
    "def find_duplicate(nums):\n",
    "    \n",
    "    slow = fast = nums[0]\n",
    "    \n",
    "    while True:\n",
    "        slow = nums[slow]\n",
    "        fast = nums[nums[fast]]\n",
    "        \n",
    "        if slow == fast:\n",
    "            break\n",
    "            \n",
    "    finder = nums[0]\n",
    "    \n",
    "    while finder != slow:\n",
    "        finder = nums[finder]\n",
    "        slow = nums[slow]\n",
    "    return finder\n",
    "\n",
    "nums = [1, 3, 4, 2, 2]\n",
    "print(find_duplicate(nums))"
   ]
  },
  {
   "cell_type": "markdown",
   "id": "05d4c4e7",
   "metadata": {},
   "source": [
    "Q.5. Given two integer arrays nums1 and nums2, return an array of their intersection. Each element in the result must be unique and you may return the result in any order.\n",
    "\n",
    "Example 1:\n",
    "\n",
    "Input: nums1 = [1,2,2,1], nums2 = [2,2]\n",
    "Output: [2]\n",
    "\n",
    "Example 2:\n",
    "\n",
    "Input: nums1 = [4,9,5], nums2 = [9,4,9,8,4]\n",
    "Output: [9,4]\n",
    "Explanation: [4,9] is also accepted."
   ]
  },
  {
   "cell_type": "code",
   "execution_count": 6,
   "id": "69e94622",
   "metadata": {},
   "outputs": [
    {
     "name": "stdout",
     "output_type": "stream",
     "text": [
      "[2]\n"
     ]
    }
   ],
   "source": [
    "def intersection(nums1, nums2):\n",
    "    \n",
    "    nums1_set = set(nums1)\n",
    "    result = set()\n",
    "    \n",
    "    for num in nums2:\n",
    "        \n",
    "        if num in nums1_set:\n",
    "            result.add(num)\n",
    "    return list(result)\n",
    "\n",
    "nums1 = [1, 2, 2, 1]\n",
    "nums2 = [2, 2]\n",
    "print(intersection(nums1, nums2))"
   ]
  },
  {
   "cell_type": "markdown",
   "id": "90168c84",
   "metadata": {},
   "source": [
    "Q.6. Suppose an array of length n sorted in ascending order is rotated between 1 and n times. For example, the array nums = [0,1,2,4,5,6,7] might become:\n",
    "\n",
    "[4,5,6,7,0,1,2] if it was rotated 4 times.\n",
    "[0,1,2,4,5,6,7] if it was rotated 7 times.\n",
    "Notice that rotating an array [a[0], a[1], a[2], ..., a[n-1]] 1 time results in the array [a[n-1], a[0], a[1], a[2], ..., a[n-2]].\n",
    "\n",
    "Given the sorted rotated array nums of unique elements, return the minimum element of this array.\n",
    "\n",
    "You must write an algorithm that runs in O(log n) time.\n",
    "\n",
    "Example 1:\n",
    "\n",
    "Input: nums = [3,4,5,1,2]\n",
    "Output: 1\n",
    "Explanation: The original array was [1,2,3,4,5] rotated 3 times.\n",
    "\n",
    "Example 2:\n",
    "\n",
    "Input: nums = [4,5,6,7,0,1,2]\n",
    "Output: 0\n",
    "Explanation: The original array was [0,1,2,4,5,6,7] and it was rotated 4 times.\n",
    "\n",
    "Example 3:\n",
    "\n",
    "Input: nums = [11,13,15,17]\n",
    "Output: 11\n",
    "Explanation: The original array was [11,13,15,17] and it was rotated 4 times."
   ]
  },
  {
   "cell_type": "code",
   "execution_count": 7,
   "id": "e2fdc67c",
   "metadata": {},
   "outputs": [
    {
     "name": "stdout",
     "output_type": "stream",
     "text": [
      "1\n"
     ]
    }
   ],
   "source": [
    "def find_min(nums):\n",
    "    \n",
    "    left = 0\n",
    "    right = len(nums) - 1\n",
    "    \n",
    "    while left < right:\n",
    "        mid = (left + right) // 2\n",
    "        \n",
    "        if nums[mid] < nums[right]:\n",
    "            right = mid\n",
    "            \n",
    "        else:\n",
    "            left = mid + 1\n",
    "            \n",
    "    return nums[left]\n",
    "\n",
    "nums = [3, 4, 5, 1, 2]\n",
    "print(find_min(nums))"
   ]
  },
  {
   "cell_type": "markdown",
   "id": "45fde59d",
   "metadata": {},
   "source": [
    "Q.7. Given an array of integers nums sorted in non-decreasing order, find the starting and ending position of a given target value.\n",
    "\n",
    "If target is not found in the array, return [-1, -1].\n",
    "\n",
    "You must write an algorithm with O(log n) runtime complexity.\n",
    "\n",
    "Example 1:\n",
    "\n",
    "Input: nums = [5,7,7,8,8,10], target = 8\n",
    "Output: [3,4]\n",
    "\n",
    "Example 2:\n",
    "\n",
    "Input: nums = [5,7,7,8,8,10], target = 6\n",
    "Output: [-1,-1]\n",
    "\n",
    "Example 3:\n",
    "\n",
    "Input: nums = [], target = 0\n",
    "Output: [-1,-1]\n"
   ]
  },
  {
   "cell_type": "code",
   "execution_count": 10,
   "id": "130c0b1d",
   "metadata": {},
   "outputs": [
    {
     "name": "stdout",
     "output_type": "stream",
     "text": [
      "[-1, -1]\n"
     ]
    }
   ],
   "source": [
    "def search_range(nums, target):\n",
    "    \n",
    "    result = [-1, -1]\n",
    "    left = 0\n",
    "    right = len(nums) - 1\n",
    "    \n",
    "    while left <= right:\n",
    "        mid = (left + right) // 2\n",
    "        \n",
    "        if nums[mid] == target:\n",
    "            result[0] = mid\n",
    "            right = mid - 1\n",
    "            \n",
    "        elif nums[mid] < target:\n",
    "            left = mid + 1\n",
    "            \n",
    "        else:\n",
    "            right = mid - 1\n",
    "            \n",
    "    left = 0\n",
    "    right = len(nums) - 1\n",
    "    \n",
    "    while left <= right:\n",
    "        mid = (left + right) // 2\n",
    "        \n",
    "        if nums[mid] == target:\n",
    "            result[1] = mid\n",
    "            left = mid + 1\n",
    "            \n",
    "        elif nums[mid] < target:\n",
    "            left = mid + 1\n",
    "            \n",
    "        else:\n",
    "            right = mid - 1\n",
    "    return result\n",
    "\n",
    "nums = [5,7,7,8,8,10]\n",
    "target = 6\n",
    "print(search_range(nums, target))"
   ]
  },
  {
   "cell_type": "markdown",
   "id": "4ff3314a",
   "metadata": {},
   "source": [
    "Q.8. Given two integer arrays nums1 and nums2, return an array of their intersection. Each element in the result must appear as many times as it shows in both arrays and you may return the result in any order.\n",
    "\n",
    "Example 1:\n",
    "\n",
    "Input: nums1 = [1,2,2,1], nums2 = [2,2]\n",
    "Output: [2,2]\n",
    "\n",
    "Example 2:\n",
    "\n",
    "Input: nums1 = [4,9,5], nums2 = [9,4,9,8,4]\n",
    "Output: [4,9]\n",
    "Explanation: [9,4] is also accepted."
   ]
  },
  {
   "cell_type": "code",
   "execution_count": 11,
   "id": "05099c8b",
   "metadata": {},
   "outputs": [
    {
     "name": "stdout",
     "output_type": "stream",
     "text": [
      "[9, 4]\n"
     ]
    }
   ],
   "source": [
    "def intersect(nums1, nums2):\n",
    "    \n",
    "    result = []\n",
    "    count = {}\n",
    "    \n",
    "    for num in nums1:\n",
    "        if num in count:\n",
    "            count[num] += 1\n",
    "        \n",
    "        else:\n",
    "            count[num] = 1\n",
    "            \n",
    "    for num in nums2:\n",
    "        if num in count and count[num] > 0:\n",
    "            result.append(num)\n",
    "            count[num] -= 1\n",
    "    return result\n",
    "\n",
    "nums1 = [4,9,5]\n",
    "nums2 = [9,4,9,8,4]\n",
    "print(intersect(nums1, nums2))"
   ]
  },
  {
   "cell_type": "code",
   "execution_count": null,
   "id": "c39ae5c4",
   "metadata": {},
   "outputs": [],
   "source": []
  },
  {
   "cell_type": "code",
   "execution_count": null,
   "id": "9f58633e",
   "metadata": {},
   "outputs": [],
   "source": []
  }
 ],
 "metadata": {
  "kernelspec": {
   "display_name": "Python 3 (ipykernel)",
   "language": "python",
   "name": "python3"
  },
  "language_info": {
   "codemirror_mode": {
    "name": "ipython",
    "version": 3
   },
   "file_extension": ".py",
   "mimetype": "text/x-python",
   "name": "python",
   "nbconvert_exporter": "python",
   "pygments_lexer": "ipython3",
   "version": "3.9.7"
  }
 },
 "nbformat": 4,
 "nbformat_minor": 5
}
